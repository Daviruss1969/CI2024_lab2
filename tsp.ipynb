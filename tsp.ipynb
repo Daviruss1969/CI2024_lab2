{
 "cells": [
  {
   "cell_type": "markdown",
   "metadata": {},
   "source": [
    "# Travelling salesman problem"
   ]
  },
  {
   "cell_type": "markdown",
   "metadata": {},
   "source": [
    "Specifications of the problem : [https://en.wikipedia.org/wiki/Travelling_salesman_problem](https://en.wikipedia.org/wiki/Travelling_salesman_problem)"
   ]
  },
  {
   "cell_type": "markdown",
   "metadata": {},
   "source": [
    "## Librairies"
   ]
  },
  {
   "cell_type": "markdown",
   "metadata": {},
   "source": [
    "Here's all the libraries needed."
   ]
  },
  {
   "cell_type": "code",
   "execution_count": null,
   "metadata": {},
   "outputs": [],
   "source": [
    "from itertools import combinations, accumulate\n",
    "import pandas as pd\n",
    "import numpy as np\n",
    "from geopy.distance import geodesic\n",
    "from matplotlib import pyplot as plt\n",
    "from dataclasses import dataclass\n",
    "from tqdm.auto import tqdm"
   ]
  },
  {
   "cell_type": "markdown",
   "metadata": {},
   "source": [
    "## Initialization"
   ]
  },
  {
   "cell_type": "markdown",
   "metadata": {},
   "source": [
    "We extract the cities from the file and create a matrix to store the distance between each city."
   ]
  },
  {
   "cell_type": "code",
   "execution_count": 161,
   "metadata": {},
   "outputs": [],
   "source": [
    "FILE = 'cities/china.csv' # Modify this path to select the problem\n",
    "\n",
    "MAX_STEPS = 500_000\n",
    "\n",
    "CITIES = pd.read_csv(FILE, header=None, names=['name', 'lat', 'lon'])\n",
    "\n",
    "SIZE = len(CITIES)\n",
    "\n",
    "DIST_MATRIX = np.zeros((SIZE, SIZE))\n",
    "\n",
    "# Compute the matrix of distances in km\n",
    "for c1, c2 in combinations(CITIES.itertuples(), 2):\n",
    "    DIST_MATRIX[c1.Index, c2.Index] = DIST_MATRIX[c2.Index, c1.Index] = geodesic(\n",
    "        (c1.lat, c1.lon), (c2.lat, c2.lon)\n",
    "    ).km"
   ]
  },
  {
   "cell_type": "markdown",
   "metadata": {},
   "source": [
    "Let's also define the cost of a solution by computing the total distance."
   ]
  },
  {
   "cell_type": "code",
   "execution_count": 162,
   "metadata": {},
   "outputs": [],
   "source": [
    "def cost(tsp: list) -> int:\n",
    "    \"\"\"Return the cost of a tsp solution\"\"\"\n",
    "    tot_cost = 0\n",
    "    for c1, c2 in zip(tsp, tsp[1:]):\n",
    "        tot_cost += DIST_MATRIX[c1, c2]\n",
    "\n",
    "    return tot_cost"
   ]
  },
  {
   "cell_type": "markdown",
   "metadata": {},
   "source": [
    "Finally, we define a function that will ensure that the solution is indeed a Hamiltonian cycle by checking that :\n",
    "- It's a cycle\n",
    "- It visit each vertex exactly once"
   ]
  },
  {
   "cell_type": "code",
   "execution_count": 163,
   "metadata": {},
   "outputs": [],
   "source": [
    "def valid(tsp: list) -> bool:\n",
    "    \"\"\"Return true if the given tsp is valid\"\"\"\n",
    "\n",
    "    # Check if the solution is a cycle\n",
    "    if tsp[0] != tsp[SIZE]:\n",
    "        return False\n",
    "\n",
    "    # Check that the vertex is visited once\n",
    "    already_visited = list()\n",
    "    for i in range(SIZE):\n",
    "        city = tsp[i]\n",
    "\n",
    "        if city in already_visited:\n",
    "            return False\n",
    "\n",
    "        already_visited.append(city)\n",
    "\n",
    "    # Check that all vertex is visited\n",
    "    if len(already_visited) != SIZE:\n",
    "        return False\n",
    "\n",
    "    return True"
   ]
  },
  {
   "cell_type": "markdown",
   "metadata": {},
   "source": [
    "## First greedy algorithm"
   ]
  },
  {
   "cell_type": "markdown",
   "metadata": {},
   "source": [
    "At first, I just wanted a working solution in order to upgrade it step by step. \n",
    "\n",
    "So I define a fist greedy function that solves a tsp by going always the closest city."
   ]
  },
  {
   "cell_type": "code",
   "execution_count": 164,
   "metadata": {},
   "outputs": [],
   "source": [
    "def greedy_tsp(dist_matrix) -> list :\n",
    "    \"\"\"Function that solves a tsp problem on a given matrix of distances using a greedy approach\"\"\"\n",
    "    dist = dist_matrix.copy()\n",
    "    city = 0\n",
    "    tsp = list()\n",
    "\n",
    "    while not np.all(dist == np.inf):\n",
    "        tsp.append(city)\n",
    "        dist[:, city] = np.inf # don't select this city anymore\n",
    "        closest = np.argmin(dist[city]) # select the closest city\n",
    "        city = closest\n",
    "    \n",
    "    tsp.append(tsp[0]) # Add the first city and close the hamiltonian cycle\n",
    "    return tsp"
   ]
  },
  {
   "cell_type": "markdown",
   "metadata": {},
   "source": [
    "Let's see what it does."
   ]
  },
  {
   "cell_type": "code",
   "execution_count": 165,
   "metadata": {},
   "outputs": [
    {
     "name": "stdout",
     "output_type": "stream",
     "text": [
      "The solution is valid, total cost : 63962.91842945519\n"
     ]
    }
   ],
   "source": [
    "tsp = greedy_tsp(DIST_MATRIX)\n",
    "\n",
    "print(f\"The solution is {'not ' if not valid(tsp) else ''}valid, total cost : {cost(tsp=tsp)}\")\n",
    "    "
   ]
  },
  {
   "cell_type": "markdown",
   "metadata": {},
   "source": [
    "As we can see, this is pretty fast, indeed the temporal complexity of the algorithm is pretty much in $O(N^2)$, where N is the number of cities.\n",
    "\n",
    "It has also a good result, not the best one because the algorithm doesn't care about the last path."
   ]
  },
  {
   "cell_type": "markdown",
   "metadata": {},
   "source": [
    "## First Hill climbing"
   ]
  },
  {
   "cell_type": "markdown",
   "metadata": {},
   "source": [
    "Let's try to achieve a better result by using hill climbing.\n",
    "\n",
    "It's important to note that in my hill climbing algorithms, I select a random city as my first and final step.\n",
    "\n",
    "When performing mutations, I never touch them. It's simpler in order to always have a cycle. Remember that **len(solution) = SIZE + 1**"
   ]
  },
  {
   "cell_type": "markdown",
   "metadata": {},
   "source": [
    "\n",
    "Let's first define the fitness to be the opposite of the cost, in order to have a gradient ascent."
   ]
  },
  {
   "cell_type": "code",
   "execution_count": 166,
   "metadata": {},
   "outputs": [],
   "source": [
    "def fitness(tsp: list) -> int:\n",
    "    return -cost(tsp)"
   ]
  },
  {
   "cell_type": "markdown",
   "metadata": {},
   "source": [
    "We can then define our first tweak function that will simply swap two points in a given path."
   ]
  },
  {
   "cell_type": "code",
   "execution_count": 167,
   "metadata": {},
   "outputs": [],
   "source": [
    "def swap(tsp: list) -> list:\n",
    "    \"\"\"Perform a random swap between two element in a list\"\"\"\n",
    "    # Select two random indexes\n",
    "    first_index = np.random.randint(1, SIZE) # Never update the first and last element to keep the cycle\n",
    "    second_index = np.random.randint(1, SIZE)\n",
    "\n",
    "    # Swap elements\n",
    "    tmp = tsp[first_index]\n",
    "    tsp[first_index] = tsp[second_index]\n",
    "    tsp[second_index] = tmp\n",
    "    \n",
    "    return tsp\n",
    "\n",
    "def swap_mutation(tsp: list) -> list:\n",
    "    \"\"\"Tweak function that will perform a swap between two elements in the tsp\"\"\"\n",
    "    new_tsp = tsp.copy()\n",
    "\n",
    "    swap(new_tsp)\n",
    "\n",
    "    return new_tsp"
   ]
  },
  {
   "cell_type": "markdown",
   "metadata": {},
   "source": [
    "Finally, we can define our hill climbing. It will use the simplest mutation for **fixed-length integer array of one-time items** representation, which is swap mutation."
   ]
  },
  {
   "cell_type": "code",
   "execution_count": 168,
   "metadata": {},
   "outputs": [],
   "source": [
    "def swap_mutation_hill_climbing_tsp() -> tuple[list, list[int]]:\n",
    "    \"\"\"Returns a solution of a tsp by using hill climbing with swap mutation\"\"\"\n",
    "    # Create a first random solution\n",
    "    solution = list(range(SIZE))\n",
    "    np.random.shuffle(solution)\n",
    "    solution.append(solution[0]) # Add the first city and close the hamiltonian cycle\n",
    "\n",
    "    fitness_solution = fitness(solution) \n",
    "    history = [fitness_solution]\n",
    "\n",
    "    for _ in range(MAX_STEPS):\n",
    "        # Tweak the current solution\n",
    "        test_solution = swap_mutation(solution)\n",
    "        fitness_test_solution = fitness(test_solution)\n",
    "        history.append(fitness_solution)\n",
    "\n",
    "        # Select the new solution if it's better\n",
    "        if fitness_test_solution > fitness_solution:\n",
    "            solution = test_solution\n",
    "            fitness_solution = fitness_test_solution\n",
    "\n",
    "\n",
    "    return solution, history"
   ]
  },
  {
   "cell_type": "markdown",
   "metadata": {},
   "source": [
    "Let's run it and see if it improve."
   ]
  },
  {
   "cell_type": "code",
   "execution_count": 183,
   "metadata": {},
   "outputs": [
    {
     "name": "stdout",
     "output_type": "stream",
     "text": [
      "The solution is valid, total cost : 184875.68957311925\n"
     ]
    },
    {
     "data": {
      "image/png": "[encoded data removed]",
      "text/plain": [
       "<Figure size 1400x800 with 1 Axes>"
      ]
     },
     "metadata": {},
     "output_type": "display_data"
    }
   ],
   "source": [
    "# Perform algorithm\n",
    "tsp, history = swap_mutation_hill_climbing_tsp()\n",
    "\n",
    "# Show results\n",
    "print(f\"The solution is {'not ' if not valid(tsp) else ''}valid, total cost : {cost(tsp=tsp)}\")\n",
    "\n",
    "# Graph\n",
    "plt.figure(figsize=(14, 8))\n",
    "plt.plot(\n",
    "    range(len(history)),\n",
    "    list(accumulate(history, max)),\n",
    "    color=\"red\",\n",
    ")\n",
    "_ = plt.scatter(range(len(history)), history, marker=\".\")"
   ]
  },
  {
   "cell_type": "markdown",
   "metadata": {},
   "source": [
    "This is more than two times worse than the greedy one, but it is still a great starting point for our hill climbing algorithm, let's try to improve it."
   ]
  },
  {
   "cell_type": "markdown",
   "metadata": {},
   "source": [
    "## Scramble Mutation"
   ]
  },
  {
   "cell_type": "markdown",
   "metadata": {},
   "source": [
    "Let's add a way to balance exploration and exploitation by having a kind of strength in the tweak function.\n",
    "\n",
    "We can use **Scramble Mutation** and use the number of selected alleles to have this strength.\n",
    "\n",
    "In this way, we can perform exploration at the beginning, and then focus more on exploitation of a solution."
   ]
  },
  {
   "cell_type": "code",
   "execution_count": 180,
   "metadata": {},
   "outputs": [],
   "source": [
    "def scramble_mutation(tsp: list, n: int) -> list:\n",
    "    \"\"\"Tweak function that will select strength random indexes and shuffle them\"\"\"\n",
    "    new_tsp = tsp.copy()\n",
    "\n",
    "    # Just perform a swap if n is one or less\n",
    "    if n <= 1:\n",
    "        return swap(new_tsp)\n",
    "\n",
    "    # Check boundaries\n",
    "    if n > SIZE:\n",
    "        n = SIZE\n",
    "\n",
    "    # Select n unique indexes\n",
    "    indexes = set(np.random.randint(1, SIZE, size=n))\n",
    "    \n",
    "    # Get the values of thoses selected indexes\n",
    "    values_to_scramble = [new_tsp[i] for i in indexes]\n",
    "\n",
    "    np.random.shuffle(values_to_scramble)\n",
    "\n",
    "    # Replace them in the solution\n",
    "    for i, scrambled_value in zip(indexes, values_to_scramble):\n",
    "        new_tsp[i] = scrambled_value\n",
    "\n",
    "    return new_tsp"
   ]
  },
  {
   "cell_type": "markdown",
   "metadata": {},
   "source": [
    "Let's also define a new hill climbing algorithm to use it. It will use the 1/5 success rule :\n",
    "- If we have more than one success over 5 -> increase the number of scramble\n",
    "- If we have less than one success over 5 -> decrease the number of scramble"
   ]
  },
  {
   "cell_type": "code",
   "execution_count": 181,
   "metadata": {},
   "outputs": [],
   "source": [
    "def scramble_mutation_hill_climbing_tsp() -> tuple[list, list[int]]:\n",
    "    \"\"\"Returns a solution of a tsp by using hill climbing with dynamic scramble mutation\"\"\"\n",
    "    # Create a first random solution\n",
    "    solution = list(range(SIZE))\n",
    "    np.random.shuffle(solution)\n",
    "    solution.append(solution[0]) # Add the first city and close the hamiltonian cycle\n",
    "\n",
    "    fitness_solution = fitness(solution)\n",
    "    history = [fitness_solution]\n",
    "\n",
    "    # Initialization of the success rule\n",
    "    n = int(SIZE/8)\n",
    "    success = 0\n",
    "\n",
    "    for i in range(MAX_STEPS):\n",
    "        # Every five iterations if we have more than one success increase n else if we have less than one, decrease it\n",
    "        if i%5:\n",
    "            if success > 1:\n",
    "                n += 1\n",
    "            elif success < 1 and n > 1:\n",
    "                n -= 1\n",
    "            success = 0\n",
    "\n",
    "        # Tweak the current solution\n",
    "        test_solution = scramble_mutation(solution, n)\n",
    "        fitness_test_solution = fitness(test_solution)\n",
    "        history.append(fitness_solution)\n",
    "\n",
    "        # Select the new solution if it's better\n",
    "        if fitness_test_solution > fitness_solution:\n",
    "            solution = test_solution\n",
    "            fitness_solution = fitness_test_solution\n",
    "            success += 1\n",
    "\n",
    "    return solution, history"
   ]
  },
  {
   "cell_type": "markdown",
   "metadata": {},
   "source": [
    "Let's see what it can do."
   ]
  },
  {
   "cell_type": "code",
   "execution_count": 184,
   "metadata": {},
   "outputs": [
    {
     "name": "stdout",
     "output_type": "stream",
     "text": [
      "The solution is valid, total cost : 182934.36734181206\n"
     ]
    },
    {
     "data": {
      "image/png": "[encoded data removed]",
      "text/plain": [
       "<Figure size 1400x800 with 1 Axes>"
      ]
     },
     "metadata": {},
     "output_type": "display_data"
    }
   ],
   "source": [
    "# Perform algorithm\n",
    "tsp, history = scramble_mutation_hill_climbing_tsp()\n",
    "\n",
    "# Show results\n",
    "print(f\"The solution is {'not ' if not valid(tsp) else ''}valid, total cost : {cost(tsp=tsp)}\")\n",
    "\n",
    "# Graph\n",
    "plt.figure(figsize=(14, 8))\n",
    "plt.plot(\n",
    "    range(len(history)),\n",
    "    list(accumulate(history, max)),\n",
    "    color=\"red\",\n",
    ")\n",
    "_ = plt.scatter(range(len(history)), history, marker=\".\")"
   ]
  },
  {
   "cell_type": "markdown",
   "metadata": {},
   "source": [
    "This new version is a bit better, we have more exploration at the begining, and more exploitation at the end.\n",
    "\n",
    "But the issue is that we are only looking for one local optimum even if it's a bad one."
   ]
  },
  {
   "cell_type": "markdown",
   "metadata": {},
   "source": [
    "## Evolutionary Algorithm"
   ]
  },
  {
   "cell_type": "markdown",
   "metadata": {},
   "source": [
    "We can try implementing evolutionary algorithm to be able to explore, compare and merge multiple local optimums in order to try reaching for the global one."
   ]
  },
  {
   "cell_type": "markdown",
   "metadata": {},
   "source": [
    "![Evolutionary Algorithm schema](./assets/EA_schema.png)"
   ]
  },
  {
   "cell_type": "markdown",
   "metadata": {},
   "source": [
    "Let's first define the structure of one individual in our population.\n",
    "\n",
    "It will contain the genome (current solution of the tsp) and also its fitness."
   ]
  },
  {
   "cell_type": "code",
   "execution_count": 173,
   "metadata": {},
   "outputs": [],
   "source": [
    "@dataclass\n",
    "class Individual:\n",
    "    genome: list[int]\n",
    "    fitness: float = None"
   ]
  },
  {
   "cell_type": "markdown",
   "metadata": {},
   "source": [
    "Let's define a parent selection function.\n",
    "\n",
    "For this part, let's implement the tournament selection, we pick n random members from the population and select the best out of these."
   ]
  },
  {
   "cell_type": "code",
   "execution_count": null,
   "metadata": {},
   "outputs": [],
   "source": [
    "def tournament_selection(population: list[Individual], n: int) -> Individual:\n",
    "    \"\"\"Perform a tournament selection, picking n random fighters from a given population and return the best one\"\"\"\n",
    "    # Pick random fighters\n",
    "    tournament = np.random.randint(0, len(population), size=n)\n",
    "    fighters: list[Individual] = [population[i] for i in tournament]\n",
    "\n",
    "    # Select the best one\n",
    "    winner = fighters[0]\n",
    "    for fighter in fighters[1:]:\n",
    "        if fighter.fitness > winner.fitness:\n",
    "            winner = fighter\n",
    "\n",
    "    return winner"
   ]
  },
  {
   "cell_type": "markdown",
   "metadata": {},
   "source": [
    "Next, we need to define a crossover function.\n",
    "\n",
    "We will take over Inver, which will allow us to preserve locality in our solutions (locality is probably a good trait for TSP)."
   ]
  },
  {
   "cell_type": "code",
   "execution_count": 175,
   "metadata": {},
   "outputs": [],
   "source": [
    "def inver_over_crossover(p1: Individual, p2: Individual) -> Individual:\n",
    "    \"\"\"Perform inver over crossover between to given parents and return the child\"\"\"\n",
    "    genome = p1.genome.copy()\n",
    "\n",
    "    # Select one city in the first parent\n",
    "    starting_city = p1.genome[np.random.randint(1, SIZE)]\n",
    "\n",
    "    # Select the closest city of the starting_city\n",
    "    next_city = p2.genome[(p2.genome.index(starting_city) + 1) % len(p2.genome)]\n",
    "\n",
    "    # Reverse the order\n",
    "    if next_city != genome[0]: # Ensure that we don't break the cycle\n",
    "        idx1, idx2 = genome.index(starting_city), genome.index(next_city)\n",
    "        if idx1 > idx2:\n",
    "            idx1, idx2 = idx2, idx1\n",
    "        genome[idx1+1:idx2+1] = reversed(genome[idx1+1:idx2+1])\n",
    "\n",
    "    return Individual(genome, fitness(genome))"
   ]
  },
  {
   "cell_type": "markdown",
   "metadata": {},
   "source": [
    "We also need a mutation function.\n",
    "\n",
    "Let's just adapt the last mutation we write for hill climbing, scramble mutation."
   ]
  },
  {
   "cell_type": "code",
   "execution_count": 176,
   "metadata": {},
   "outputs": [],
   "source": [
    "def scramble_mutation(tsp: Individual, n: int) -> Individual:\n",
    "    \"\"\"Tweak function that will select strength random indexes and shuffle them\"\"\"\n",
    "    genome = tsp.genome.copy()\n",
    "\n",
    "    # Just perform a swap if n is one or less\n",
    "    if n <= 1:\n",
    "        return Individual(swap(genome), fitness(genome))\n",
    "\n",
    "    # Check boundaries\n",
    "    if n > SIZE:\n",
    "        n = SIZE\n",
    "\n",
    "    # Select n unique indexes\n",
    "    indexes = set(np.random.randint(1, SIZE, size=n))\n",
    "    \n",
    "    # Get the values of thoses selected indexes\n",
    "    values_to_scramble = [genome[i] for i in indexes]\n",
    "\n",
    "    np.random.shuffle(values_to_scramble)\n",
    "\n",
    "    # Replace them in the solution\n",
    "    for i, scrambled_value in zip(indexes, values_to_scramble):\n",
    "        genome[i] = scrambled_value\n",
    "\n",
    "    return Individual(genome, fitness(genome))"
   ]
  },
  {
   "cell_type": "markdown",
   "metadata": {},
   "source": [
    "Finally let's define the behavior of our evolutionary algorithm.\n",
    "\n",
    "We will use a steady state approach since the children will compete against parents to survive."
   ]
  },
  {
   "cell_type": "code",
   "execution_count": 177,
   "metadata": {},
   "outputs": [],
   "source": [
    "# Constants\n",
    "POPULATION_SIZE=20\n",
    "OFFSPRING_SIZE=10\n",
    "MAX_GENERATIONS=500_000\n",
    "\n",
    "def init_individual() -> Individual:\n",
    "    \"\"\"Return a purely random individual for the TSP problem\"\"\"\n",
    "    genome = list(range(SIZE))\n",
    "    np.random.shuffle(genome)\n",
    "    genome.append(genome[0]) # Add the first city and close the hamiltonian cycle\n",
    "    return Individual(genome, fitness(genome))\n",
    "\n",
    "def ea_tsp() -> tuple[Individual, list[float]]:\n",
    "    \"\"\"Function that performs the evolutionary algorithm\"\"\"\n",
    "    # Initialization of the population\n",
    "    population = [init_individual() for _ in range(POPULATION_SIZE)]\n",
    "    history = [population[0].fitness]\n",
    "\n",
    "    # Constants for the 1/5 success rule\n",
    "    n = 8\n",
    "    i = 0\n",
    "    success = 0\n",
    "    \n",
    "    # Generations\n",
    "    for _ in tqdm(range(MAX_GENERATIONS)):\n",
    "        offspring: list[Individual] = list()\n",
    "        \n",
    "        # Generate offspring\n",
    "        for _ in range(OFFSPRING_SIZE):\n",
    "            if np.random.random() < .5:\n",
    "                # 1/5 success rule\n",
    "                if i == 5:\n",
    "                    if success > 1:\n",
    "                        n += 1\n",
    "                    elif success < 1 and n > 1:\n",
    "                        n -= 1\n",
    "                    success = 0\n",
    "                    i = 0\n",
    "\n",
    "                # perform mutation of one parent\n",
    "                parent = tournament_selection(population, int(OFFSPRING_SIZE/3))\n",
    "                new_individual = scramble_mutation(parent, n)\n",
    "                i+= 1\n",
    "\n",
    "                # 1/5 success rule\n",
    "                if new_individual.fitness > parent.fitness:\n",
    "                    success += 1\n",
    "            else:\n",
    "                # Take two parents and perform crossover\n",
    "                parent1 = tournament_selection(population, int(OFFSPRING_SIZE/3))\n",
    "                parent2 = tournament_selection(population, int(OFFSPRING_SIZE/3))\n",
    "                new_individual = inver_over_crossover(parent1, parent2)\n",
    "\n",
    "            offspring.append(new_individual)\n",
    "\n",
    "        # Steady state -> add offspring to population and perform the survivor selection\n",
    "        population.extend(offspring)\n",
    "        population.sort(key=lambda i: i.fitness, reverse=True)\n",
    "        population = population[:POPULATION_SIZE]\n",
    "\n",
    "        history.append(population[0].fitness)\n",
    "\n",
    "    return population[0], history"
   ]
  },
  {
   "cell_type": "markdown",
   "metadata": {},
   "source": [
    "Let's run it and see the results."
   ]
  },
  {
   "cell_type": "code",
   "execution_count": 178,
   "metadata": {},
   "outputs": [
    {
     "name": "stderr",
     "output_type": "stream",
     "text": [
      "100%|██████████| 500000/500000 [09:12<00:00, 905.28it/s] \n"
     ]
    },
    {
     "name": "stdout",
     "output_type": "stream",
     "text": [
      "The solution is valid, total cost : 131937.17379219198\n"
     ]
    },
    {
     "data": {
      "image/png": "[encoded data removed]",
      "text/plain": [
       "<Figure size 1400x800 with 1 Axes>"
      ]
     },
     "metadata": {},
     "output_type": "display_data"
    }
   ],
   "source": [
    "# Perform algorightm\n",
    "tsp, history = ea_tsp()\n",
    "\n",
    "# Results\n",
    "print(f\"The solution is {'not ' if not valid(tsp.genome) else ''}valid, total cost : {cost(tsp=tsp.genome)}\")\n",
    "\n",
    "# Show graph\n",
    "plt.figure(figsize=(14, 8))\n",
    "plt.plot(\n",
    "    range(len(history)),\n",
    "    list(accumulate(history, max)),\n",
    "    color=\"red\",\n",
    ")\n",
    "_ = plt.scatter(range(len(history)), history, marker=\".\")"
   ]
  },
  {
   "cell_type": "markdown",
   "metadata": {},
   "source": [
    "As we can see it's better, but we are still worse than the greedy algorithm in terms of comparison and results.\n",
    "\n",
    "Some ways of improvement could be to run the algorithm longer, tweak some hyperparameters or choosing others genetic operator."
   ]
  }
 ],
 "metadata": {
  "kernelspec": {
   "display_name": "ci2024-lab2-6FlIlJNF-py3.10",
   "language": "python",
   "name": "python3"
  },
  "language_info": {
   "codemirror_mode": {
    "name": "ipython",
    "version": 3
   },
   "file_extension": ".py",
   "mimetype": "text/x-python",
   "name": "python",
   "nbconvert_exporter": "python",
   "pygments_lexer": "ipython3",
   "version": "3.10.12"
  }
 },
 "nbformat": 4,
 "nbformat_minor": 2
}
