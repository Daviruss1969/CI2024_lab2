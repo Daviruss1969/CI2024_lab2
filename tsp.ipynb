{
 "cells": [
  {
   "cell_type": "markdown",
   "metadata": {},
   "source": [
    "# Travelling salesman problem\n",
    "\n",
    "Specifications of the problem : [https://en.wikipedia.org/wiki/Travelling_salesman_problem](https://en.wikipedia.org/wiki/Travelling_salesman_problem)"
   ]
  },
  {
   "cell_type": "markdown",
   "metadata": {},
   "source": [
    "## Librairies\n",
    "\n",
    "Here's all the libraries needed."
   ]
  },
  {
   "cell_type": "code",
   "execution_count": 24,
   "metadata": {},
   "outputs": [],
   "source": [
    "from itertools import combinations\n",
    "import pandas as pd\n",
    "import numpy as np\n",
    "from icecream import ic\n",
    "from geopy.distance import geodesic"
   ]
  },
  {
   "cell_type": "markdown",
   "metadata": {},
   "source": [
    "## Initialization\n",
    "\n",
    "We extract the cities from the file and create a matrix to store the distance between each city."
   ]
  },
  {
   "cell_type": "code",
   "execution_count": 25,
   "metadata": {},
   "outputs": [],
   "source": [
    "FILE = 'cities/vanuatu.csv'\n",
    "\n",
    "CITIES = pd.read_csv(FILE, header=None, names=['name', 'lat', 'lon'])\n",
    "\n",
    "DIST_MATRIX = np.zeros((len(CITIES), len(CITIES)))\n",
    "\n",
    "for c1, c2 in combinations(CITIES.itertuples(), 2):\n",
    "    DIST_MATRIX[c1.Index, c2.Index] = DIST_MATRIX[c2.Index, c1.Index] = geodesic(\n",
    "        (c1.lat, c1.lon), (c2.lat, c2.lon)\n",
    "    ).km"
   ]
  },
  {
   "cell_type": "markdown",
   "metadata": {},
   "source": [
    "## First greedy algorithm\n",
    "\n",
    "At first, I just wanted a working solution in order to upgrade it step by step. \n",
    "\n",
    "So I define a fist greedy function that solves a tsp by going always the closest city."
   ]
  },
  {
   "cell_type": "code",
   "execution_count": 26,
   "metadata": {},
   "outputs": [],
   "source": [
    "def greedy_tsp(dist_matrix) -> list :\n",
    "    \"\"\"Function that return a list of indexes to solve a tsp on a given matrix of distances\"\"\"\n",
    "    dist = dist_matrix.copy()\n",
    "    city = 0\n",
    "    tsp = list()\n",
    "\n",
    "    while not np.all(dist == np.inf):\n",
    "        tsp.append(city)\n",
    "        dist[:, city] = np.inf\n",
    "        closest = np.argmin(dist[city])\n",
    "        city = closest\n",
    "    \n",
    "    tsp.append(tsp[0]) # Add the first city to close the hamiltonian cycle\n",
    "    return tsp"
   ]
  },
  {
   "cell_type": "markdown",
   "metadata": {},
   "source": [
    "Let's see what it does."
   ]
  },
  {
   "cell_type": "code",
   "execution_count": 27,
   "metadata": {},
   "outputs": [
    {
     "name": "stdout",
     "output_type": "stream",
     "text": [
      "Isangel -> Vila\n",
      "Vila -> Lakatoro\n",
      "Lakatoro -> Norsup\n",
      "Norsup -> Luganville\n",
      "Luganville -> Port Olry\n",
      "Port Olry -> Longana\n",
      "Longana -> Sola\n",
      "Sola -> Isangel\n",
      "Total cost : 1475.528091104531\n"
     ]
    }
   ],
   "source": [
    "city_names = np.array([c['name'] for _, c in CITIES.iterrows()])\n",
    "\n",
    "tsp = greedy_tsp(DIST_MATRIX)\n",
    "\n",
    "tot_cost = 0\n",
    "for c1, c2 in zip(tsp, tsp[1:]):\n",
    "    print(f\"{city_names[c1]} -> {city_names[c2]}\")\n",
    "    tot_cost += DIST_MATRIX[c1, c2]\n",
    "print(f\"Total cost : {tot_cost}\")\n",
    "    "
   ]
  },
  {
   "cell_type": "markdown",
   "metadata": {},
   "source": [
    "As we can see, this is pretty fast, indeed the temporal complexity of the algorithm is pretty much in $O(N^2)$, where N is the number of cities.\n",
    "\n",
    "But this is surely not an efficient algorithm since the cost of the final result is high."
   ]
  }
 ],
 "metadata": {
  "kernelspec": {
   "display_name": "ci2024-lab2-6FlIlJNF-py3.10",
   "language": "python",
   "name": "python3"
  },
  "language_info": {
   "codemirror_mode": {
    "name": "ipython",
    "version": 3
   },
   "file_extension": ".py",
   "mimetype": "text/x-python",
   "name": "python",
   "nbconvert_exporter": "python",
   "pygments_lexer": "ipython3",
   "version": "3.10.12"
  }
 },
 "nbformat": 4,
 "nbformat_minor": 2
}
